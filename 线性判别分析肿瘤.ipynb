{
 "cells": [
  {
   "cell_type": "code",
   "execution_count": 17,
   "id": "e1b01817-0915-47b5-8a3b-f229b7a82814",
   "metadata": {},
   "outputs": [],
   "source": [
    "import pandas as pd\n",
    "import numpy as np\n",
    "import matplotlib.pyplot as plt\n",
    "import seaborn as sns\n",
    "from sklearn.discriminant_analysis import LinearDiscriminantAnalysis as LDA\n",
    "from matplotlib import rcParams\n",
    "\n",
    "# 设置字体为黑体（SimHei）\n",
    "rcParams['font.family'] = 'SimHei'\n",
    "rcParams['font.sans-serif'] = ['SimHei']  # 黑体\n",
    "rcParams['axes.unicode_minus'] = False  # 处理负号显示问题"
   ]
  },
  {
   "cell_type": "code",
   "execution_count": 2,
   "id": "84303636-9a0c-40d0-b2b4-7f716e589164",
   "metadata": {},
   "outputs": [],
   "source": [
    "data = {\n",
    "    '肿瘤大小（mm）': [5.0, 5.5, 7.0, 6.8, 5.2],\n",
    "    '表面粗糙度': [2.0, 2.1, 2.5, 2.4, 2.1],\n",
    "    '密度(g/cm³)': [1.5, 1.6, 2.0, 1.9, 1.5],\n",
    "    '类别': [0, 0, 1, 1, 0]\n",
    "}\n",
    "df = pd.DataFrame(data)"
   ]
  },
  {
   "cell_type": "code",
   "execution_count": 5,
   "id": "3d55355a-c430-47d4-a91b-18295d48abec",
   "metadata": {},
   "outputs": [
    {
     "data": {
      "text/html": [
       "<div>\n",
       "<style scoped>\n",
       "    .dataframe tbody tr th:only-of-type {\n",
       "        vertical-align: middle;\n",
       "    }\n",
       "\n",
       "    .dataframe tbody tr th {\n",
       "        vertical-align: top;\n",
       "    }\n",
       "\n",
       "    .dataframe thead th {\n",
       "        text-align: right;\n",
       "    }\n",
       "</style>\n",
       "<table border=\"1\" class=\"dataframe\">\n",
       "  <thead>\n",
       "    <tr style=\"text-align: right;\">\n",
       "      <th></th>\n",
       "      <th>肿瘤大小（mm）</th>\n",
       "      <th>表面粗糙度</th>\n",
       "      <th>密度(g/cm³)</th>\n",
       "    </tr>\n",
       "    <tr>\n",
       "      <th>类别</th>\n",
       "      <th></th>\n",
       "      <th></th>\n",
       "      <th></th>\n",
       "    </tr>\n",
       "  </thead>\n",
       "  <tbody>\n",
       "    <tr>\n",
       "      <th>0</th>\n",
       "      <td>5.23</td>\n",
       "      <td>2.07</td>\n",
       "      <td>1.53</td>\n",
       "    </tr>\n",
       "    <tr>\n",
       "      <th>1</th>\n",
       "      <td>6.90</td>\n",
       "      <td>2.45</td>\n",
       "      <td>1.95</td>\n",
       "    </tr>\n",
       "  </tbody>\n",
       "</table>\n",
       "</div>"
      ],
      "text/plain": [
       "    肿瘤大小（mm）  表面粗糙度  密度(g/cm³)\n",
       "类别                            \n",
       "0       5.23   2.07       1.53\n",
       "1       6.90   2.45       1.95"
      ]
     },
     "execution_count": 5,
     "metadata": {},
     "output_type": "execute_result"
    }
   ],
   "source": [
    "mean_vectors = df.groupby('类别').mean().round(2)\n",
    "mean_vectors"
   ]
  },
  {
   "cell_type": "code",
   "execution_count": 6,
   "id": "c3720198-3638-4e89-8b17-9e691dd15720",
   "metadata": {},
   "outputs": [
    {
     "name": "stdout",
     "output_type": "stream",
     "text": [
      "μ0: [5.23 2.07 1.53]\n",
      "μ1: [6.9  2.45 1.95]\n"
     ]
    }
   ],
   "source": [
    "μ0 = mean_vectors.loc[0].values  \n",
    "μ1 = mean_vectors.loc[1].values  \n",
    "print(\"μ0:\", μ0)\n",
    "print(\"μ1:\", μ1)"
   ]
  },
  {
   "cell_type": "code",
   "execution_count": 9,
   "id": "06744c55-59a7-4f49-b27b-cc70de8b3863",
   "metadata": {},
   "outputs": [
    {
     "data": {
      "text/plain": [
       "array([5.9 , 2.22, 1.7 ])"
      ]
     },
     "execution_count": 9,
     "metadata": {},
     "output_type": "execute_result"
    }
   ],
   "source": [
    "# 计算全局均值向量\n",
    "global_mean = df[['肿瘤大小（mm）', '表面粗糙度', '密度(g/cm³)']].mean().round(2)\n",
    "μ = global_mean.values  \n",
    "μ"
   ]
  },
  {
   "cell_type": "code",
   "execution_count": 10,
   "id": "f1f1476a-9491-4122-9829-85f31a3424c6",
   "metadata": {},
   "outputs": [
    {
     "name": "stdout",
     "output_type": "stream",
     "text": [
      "类内散度矩阵 S_W:\n",
      " [[0.1467 0.0333 0.0367]\n",
      " [0.0333 0.0117 0.0083]\n",
      " [0.0367 0.0083 0.0117]]\n"
     ]
    }
   ],
   "source": [
    "S_W = np.zeros((3, 3))  # 3个特征\n",
    "for label, group in df.groupby('类别'):\n",
    "    # 获取均值向量\n",
    "    mean_vector = mean_vectors.loc[label].values\n",
    "    # 对每个样本计算散度\n",
    "    for _, row in group.iterrows():\n",
    "        x = row[['肿瘤大小（mm）', '表面粗糙度', '密度(g/cm³)']].values\n",
    "        diff = (x - mean_vector).reshape(-1, 1)\n",
    "        S_W += diff @ diff.T\n",
    "\n",
    "# 打印类内散度矩阵\n",
    "print(\"类内散度矩阵 S_W:\\n\", S_W)"
   ]
  },
  {
   "cell_type": "code",
   "execution_count": 12,
   "id": "44b74578-5548-4aad-b28f-e99be8e24a2b",
   "metadata": {},
   "outputs": [
    {
     "name": "stdout",
     "output_type": "stream",
     "text": [
      "类间散度矩阵 S_B:\n",
      " [[3.3467 0.7615 0.8417]\n",
      " [0.7615 0.1733 0.1915]\n",
      " [0.8417 0.1915 0.2117]]\n"
     ]
    }
   ],
   "source": [
    "S_B = np.zeros((3, 3))  # 3个特征\n",
    "# 计算类间散度矩阵\n",
    "for label, mean_vector in mean_vectors.iterrows():\n",
    "    N_i = df[df['类别'] == label].shape[0]  # 类别 i 的样本数量\n",
    "    mean_diff = (mean_vector.values - global_mean).to_numpy().reshape(-1, 1)  # 转换为 NumPy 数组并重塑\n",
    "    S_B += N_i * (mean_diff @ mean_diff.T)\n",
    "\n",
    "# 打印类间散度矩阵\n",
    "print(\"类间散度矩阵 S_B:\\n\", S_B)"
   ]
  },
  {
   "cell_type": "code",
   "execution_count": 15,
   "id": "11ea7139-b590-45de-a7f5-2351d35319c6",
   "metadata": {},
   "outputs": [
    {
     "name": "stdout",
     "output_type": "stream",
     "text": [
      "最优投影方向: [-0.99663586 -0.02024677 -0.07941682]\n",
      "投影后的数据: 0   -5.142798\n",
      "1   -5.651082\n",
      "2   -7.185902\n",
      "3   -6.976608\n",
      "4   -5.344150\n",
      "dtype: float64\n"
     ]
    }
   ],
   "source": [
    "# 求解广义特征值问题，这行代码计算了广义特征值问题 𝑆𝐵𝑤=𝜆𝑆𝑊𝑤S的特征值和特征向量。\n",
    "eigvals, eigvecs = np.linalg.eig(np.linalg.inv(S_W).dot(S_B))\n",
    "\n",
    "# 获取特征值和特征向量的索引\n",
    "sorted_indices = np.argsort(eigvals)[::-1]  # 从大到小排序\n",
    "sorted_eigvecs = eigvecs[:, sorted_indices]\n",
    "\n",
    "# 选择前 k 个特征向量（这里 k=1，表示一个投影方向）\n",
    "w = sorted_eigvecs[:, 0]\n",
    "\n",
    "# 投影数据\n",
    "X_lda = df[['肿瘤大小（mm）', '表面粗糙度', '密度(g/cm³)']].dot(w)\n",
    "\n",
    "# 打印结果\n",
    "print(\"最优投影方向:\", w)\n",
    "print(\"投影后的数据:\", X_lda)"
   ]
  },
  {
   "cell_type": "code",
   "execution_count": 18,
   "id": "cc2896f7-4950-4775-9a08-9873603a7ccd",
   "metadata": {},
   "outputs": [
    {
     "data": {
      "image/png": "[encoded data removed]",
      "text/plain": [
       "<Figure size 800x600 with 1 Axes>"
      ]
     },
     "metadata": {},
     "output_type": "display_data"
    }
   ],
   "source": [
    "# 可视化投影结果\n",
    "plt.figure(figsize=(8, 6))\n",
    "sns.scatterplot(x=X_lda, y=np.zeros_like(X_lda), hue=df['类别'], palette='viridis', s=100)\n",
    "plt.title('LDA投影结果')\n",
    "plt.xlabel('投影值')\n",
    "plt.yticks([])\n",
    "plt.axvline(0, color='red', linestyle='--')  # 添加垂直线作为参考\n",
    "plt.show()"
   ]
  },
  {
   "cell_type": "code",
   "execution_count": null,
   "id": "b5076c64-d80b-4f32-807c-fd05f0659e8a",
   "metadata": {},
   "outputs": [],
   "source": [
    "#y = wTx为数据投影公式"
   ]
  },
  {
   "cell_type": "code",
   "execution_count": 20,
   "id": "826794fb-19ab-4b2c-ab6c-394f3dfeeda5",
   "metadata": {},
   "outputs": [],
   "source": [
    "projected_values = np.array([-5.142798, -5.651082, -7.185902, -6.976608, -5.344150])\n",
    "# 使用 NumPy 计算平均值\n",
    "mean_value = np.mean(projected_values)"
   ]
  },
  {
   "cell_type": "code",
   "execution_count": 29,
   "id": "0e7b5782-084a-49e2-905a-0bcdc91520b3",
   "metadata": {},
   "outputs": [
    {
     "name": "stdout",
     "output_type": "stream",
     "text": [
      "-45.167239334666974\n"
     ]
    }
   ],
   "source": [
    "new = np.array([0.01, 2222.5, 2.0])\n",
    "result = new.dot(w)\n",
    "print(result)"
   ]
  },
  {
   "cell_type": "code",
   "execution_count": 30,
   "id": "ed4781e6-42df-44d8-86f8-8878dc681dd7",
   "metadata": {},
   "outputs": [
    {
     "name": "stdout",
     "output_type": "stream",
     "text": [
      "新病人被判断为: 恶性\n"
     ]
    }
   ],
   "source": [
    "# 分类判断\n",
    "if result < mean_value:  # 根据数据分布判断\n",
    "    print(\"新病人被判断为: 恶性\")\n",
    "else:\n",
    "    print(\"新病人被判断为: 良性\")"
   ]
  },
  {
   "cell_type": "code",
   "execution_count": null,
   "id": "6f1ee225-30c8-4c53-91af-4beea313d4f7",
   "metadata": {},
   "outputs": [],
   "source": []
  }
 ],
 "metadata": {
  "kernelspec": {
   "display_name": "Python 3 (ipykernel)",
   "language": "python",
   "name": "python3"
  },
  "language_info": {
   "codemirror_mode": {
    "name": "ipython",
    "version": 3
   },
   "file_extension": ".py",
   "mimetype": "text/x-python",
   "name": "python",
   "nbconvert_exporter": "python",
   "pygments_lexer": "ipython3",
   "version": "3.11.5"
  }
 },
 "nbformat": 4,
 "nbformat_minor": 5
}
